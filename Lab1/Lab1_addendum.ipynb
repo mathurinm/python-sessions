{
 "cells": [
  {
   "cell_type": "code",
   "execution_count": 1,
   "metadata": {},
   "outputs": [],
   "source": [
    "import numpy as np\n",
    "\n",
    "from numpy.linalg import norm"
   ]
  },
  {
   "cell_type": "markdown",
   "metadata": {},
   "source": [
    "# A word on global variables and closures"
   ]
  },
  {
   "cell_type": "markdown",
   "metadata": {},
   "source": [
    "Consider the following (simplified, and with wrong formulas) design, inspired by TP1:"
   ]
  },
  {
   "cell_type": "code",
   "execution_count": 2,
   "metadata": {},
   "outputs": [],
   "source": [
    "def simu_linreg():\n",
    "    np.random.seed(24)  # seed to always get the same A and b\n",
    "    A = np.random.randn(10, 10)\n",
    "    b = A.dot(np.random.randn(10)) # values in ]- \\infty, \\infty[]\n",
    "    return A, b\n",
    "    \n",
    "def simu_logreg():\n",
    "    np.random.seed(24)  # seed to always get the same A and b\n",
    "    A = np.random.randn(10, 10)\n",
    "    b = np.sign(A.dot(np.random.randn(10)))  # values exactly -1 or 1\n",
    "    return A, b\n",
    "\n",
    "def loss_linreg(x):\n",
    "    return norm(A.dot(x) - b)\n",
    "\n",
    "def loss_logreg(x):\n",
    "    return norm(np.exp(A.dot(x) * b))"
   ]
  },
  {
   "cell_type": "markdown",
   "metadata": {},
   "source": [
    "It is a bad design, because loss_linreg and loss_logreg use two global variables, `A` and `b`, which are not meant to be the same (in the TP case, for linreg b has values in $[-\\infty, + \\infty]$.\n",
    "                                                                                                                     whereas for logreg b has values in {-1, 1}.\n",
    "                                                                                                                     \n",
    "                                                                                                                     \n",
    "`A` and `b` must be defined as global variables before we call loss_linreg():"
   ]
  },
  {
   "cell_type": "code",
   "execution_count": 3,
   "metadata": {},
   "outputs": [
    {
     "ename": "NameError",
     "evalue": "name 'A' is not defined",
     "output_type": "error",
     "traceback": [
      "\u001b[0;31m---------------------------------------------------------------------------\u001b[0m",
      "\u001b[0;31mNameError\u001b[0m                                 Traceback (most recent call last)",
      "\u001b[0;32m<ipython-input-3-5ba37d0773ce>\u001b[0m in \u001b[0;36m<module>\u001b[0;34m\u001b[0m\n\u001b[1;32m      1\u001b[0m \u001b[0mx\u001b[0m \u001b[0;34m=\u001b[0m \u001b[0mnp\u001b[0m\u001b[0;34m.\u001b[0m\u001b[0marange\u001b[0m\u001b[0;34m(\u001b[0m\u001b[0;36m10\u001b[0m\u001b[0;34m)\u001b[0m\u001b[0;34m\u001b[0m\u001b[0m\n\u001b[0;32m----> 2\u001b[0;31m \u001b[0mloss_linreg\u001b[0m\u001b[0;34m(\u001b[0m\u001b[0mx\u001b[0m\u001b[0;34m)\u001b[0m\u001b[0;34m\u001b[0m\u001b[0m\n\u001b[0m",
      "\u001b[0;32m<ipython-input-2-d9494f760b60>\u001b[0m in \u001b[0;36mloss_linreg\u001b[0;34m(x)\u001b[0m\n\u001b[1;32m     12\u001b[0m \u001b[0;34m\u001b[0m\u001b[0m\n\u001b[1;32m     13\u001b[0m \u001b[0;32mdef\u001b[0m \u001b[0mloss_linreg\u001b[0m\u001b[0;34m(\u001b[0m\u001b[0mx\u001b[0m\u001b[0;34m)\u001b[0m\u001b[0;34m:\u001b[0m\u001b[0;34m\u001b[0m\u001b[0m\n\u001b[0;32m---> 14\u001b[0;31m     \u001b[0;32mreturn\u001b[0m \u001b[0mnorm\u001b[0m\u001b[0;34m(\u001b[0m\u001b[0mA\u001b[0m\u001b[0;34m.\u001b[0m\u001b[0mdot\u001b[0m\u001b[0;34m(\u001b[0m\u001b[0mx\u001b[0m\u001b[0;34m)\u001b[0m \u001b[0;34m-\u001b[0m \u001b[0mb\u001b[0m\u001b[0;34m)\u001b[0m\u001b[0;34m\u001b[0m\u001b[0m\n\u001b[0m\u001b[1;32m     15\u001b[0m \u001b[0;34m\u001b[0m\u001b[0m\n\u001b[1;32m     16\u001b[0m \u001b[0;32mdef\u001b[0m \u001b[0mloss_logreg\u001b[0m\u001b[0;34m(\u001b[0m\u001b[0mx\u001b[0m\u001b[0;34m)\u001b[0m\u001b[0;34m:\u001b[0m\u001b[0;34m\u001b[0m\u001b[0m\n",
      "\u001b[0;31mNameError\u001b[0m: name 'A' is not defined"
     ]
    }
   ],
   "source": [
    "x = np.arange(10)\n",
    "loss_linreg(x)"
   ]
  },
  {
   "cell_type": "markdown",
   "metadata": {},
   "source": [
    "So we fix that by instantiating A and b:"
   ]
  },
  {
   "cell_type": "code",
   "execution_count": 4,
   "metadata": {},
   "outputs": [
    {
     "data": {
      "text/plain": [
       "64.08451461074556"
      ]
     },
     "execution_count": 4,
     "metadata": {},
     "output_type": "execute_result"
    }
   ],
   "source": [
    "A, b = simu_linreg()\n",
    "loss_linreg(x)"
   ]
  },
  {
   "cell_type": "code",
   "execution_count": 5,
   "metadata": {},
   "outputs": [
    {
     "data": {
      "text/plain": [
       "319044211109848.7"
      ]
     },
     "execution_count": 5,
     "metadata": {},
     "output_type": "execute_result"
    }
   ],
   "source": [
    "# we do it for logreg too:\n",
    "A, b = simu_logreg()\n",
    "loss_logreg(x)"
   ]
  },
  {
   "cell_type": "markdown",
   "metadata": {},
   "source": [
    "So now everything works fine? No: if we call again `loss_linreg()`, A and b now refer to variables generated by `simu_logreg()` in the previous cell, so the value is not the old one:"
   ]
  },
  {
   "cell_type": "code",
   "execution_count": 7,
   "metadata": {},
   "outputs": [
    {
     "data": {
      "text/plain": [
       "65.18082850239307"
      ]
     },
     "execution_count": 7,
     "metadata": {},
     "output_type": "execute_result"
    }
   ],
   "source": [
    "loss_linreg(x)  # slightly different from what we had earlier"
   ]
  },
  {
   "cell_type": "markdown",
   "metadata": {},
   "source": [
    "The hack that you saw in class is to define different variables for linreg and logreg so that the name won't clash:"
   ]
  },
  {
   "cell_type": "code",
   "execution_count": 9,
   "metadata": {},
   "outputs": [
    {
     "data": {
      "text/plain": [
       "64.08451461074556"
      ]
     },
     "execution_count": 9,
     "metadata": {},
     "output_type": "execute_result"
    }
   ],
   "source": [
    "def loss_linreg_v1(x):\n",
    "    return norm(A_linreg.dot(x) - b_linreg)\n",
    "\n",
    "A_linreg, b_linreg = simu_linreg()\n",
    "A_logreg, b_logreg = simu_logreg()\n",
    "loss_linreg_v1(x)  # the good one"
   ]
  },
  {
   "cell_type": "markdown",
   "metadata": {},
   "source": [
    "But this is a bit ugly. The clean solution #1 is to use A and b as parameters:"
   ]
  },
  {
   "cell_type": "code",
   "execution_count": 10,
   "metadata": {},
   "outputs": [],
   "source": [
    "def loss_linreg_v2(x, A, b):\n",
    "    return norm(A.dot(x) - b)"
   ]
  },
  {
   "cell_type": "markdown",
   "metadata": {},
   "source": [
    "But then you can't just call loss_linreg_v2(x), and passing A and b to ISTA and FISTA is a bit heavy:"
   ]
  },
  {
   "cell_type": "code",
   "execution_count": 11,
   "metadata": {},
   "outputs": [
    {
     "ename": "TypeError",
     "evalue": "loss_linreg_v2() missing 2 required positional arguments: 'A' and 'b'",
     "output_type": "error",
     "traceback": [
      "\u001b[0;31m---------------------------------------------------------------------------\u001b[0m",
      "\u001b[0;31mTypeError\u001b[0m                                 Traceback (most recent call last)",
      "\u001b[0;32m<ipython-input-11-ad24e1f8a1ce>\u001b[0m in \u001b[0;36m<module>\u001b[0;34m\u001b[0m\n\u001b[0;32m----> 1\u001b[0;31m \u001b[0mloss_linreg_v2\u001b[0m\u001b[0;34m(\u001b[0m\u001b[0mx\u001b[0m\u001b[0;34m)\u001b[0m\u001b[0;34m\u001b[0m\u001b[0m\n\u001b[0m",
      "\u001b[0;31mTypeError\u001b[0m: loss_linreg_v2() missing 2 required positional arguments: 'A' and 'b'"
     ]
    }
   ],
   "source": [
    "loss_linreg_v2(x)"
   ]
  },
  {
   "cell_type": "markdown",
   "metadata": {},
   "source": [
    "You don't want to do this:"
   ]
  },
  {
   "cell_type": "code",
   "execution_count": 12,
   "metadata": {},
   "outputs": [],
   "source": [
    "def loss_linreg_v2(x):\n",
    "    A, b = simu_linreg()\n",
    "    return norm(A.dot(x) - b)"
   ]
  },
  {
   "cell_type": "markdown",
   "metadata": {},
   "source": [
    "because you would create a new dataset everytime you compute the loss"
   ]
  },
  {
   "cell_type": "markdown",
   "metadata": {},
   "source": [
    "Solution #2 (cleanest one) is to use a closure: a function which defines a function inside, and returns this function:"
   ]
  },
  {
   "cell_type": "code",
   "execution_count": 13,
   "metadata": {},
   "outputs": [
    {
     "name": "stdout",
     "output_type": "stream",
     "text": [
      "64.08451461074556\n",
      "64.08451461074556\n"
     ]
    }
   ],
   "source": [
    "def create_loss_linreg():\n",
    "    A, b = simu_linreg()  # now A and b are defined in this scope, not as global variables.\n",
    "    # /!\\ A and b could also be arguments of create_loss_linreg().\n",
    "    \n",
    "    # I define a function inside the closure\n",
    "    def loss_linreg(x):\n",
    "        return norm(A.dot(x) - b)\n",
    "    \n",
    "    # I return this function:\n",
    "    return loss_linreg\n",
    "\n",
    "\n",
    "loss_linreg_v3 = create_loss_linreg()  # create_loss_linreg returns a function\n",
    "print(loss_linreg_v3(x))\n",
    "\n",
    "# now changing A and b as global variables doesn't affect the function:\n",
    "A, b = simu_logreg()\n",
    "print(loss_linreg_v3(x))  # the same value, it has not changed"
   ]
  },
  {
   "cell_type": "markdown",
   "metadata": {},
   "source": [
    "As a conclusion:\n",
    "- either you go with the original design, and you *make sure to redefine A and b* when you change between algorithms\n",
    "- either you create a closure, and you recreate a new loss_function with it everytime you change algorithm or design"
   ]
  }
 ],
 "metadata": {
  "anaconda-cloud": {},
  "kernelspec": {
   "display_name": "Python [conda env:anaconda3]",
   "language": "python",
   "name": "conda-env-anaconda3-py"
  },
  "language_info": {
   "codemirror_mode": {
    "name": "ipython",
    "version": 3
   },
   "file_extension": ".py",
   "mimetype": "text/x-python",
   "name": "python",
   "nbconvert_exporter": "python",
   "pygments_lexer": "ipython3",
   "version": "3.6.6"
  }
 },
 "nbformat": 4,
 "nbformat_minor": 2
}
